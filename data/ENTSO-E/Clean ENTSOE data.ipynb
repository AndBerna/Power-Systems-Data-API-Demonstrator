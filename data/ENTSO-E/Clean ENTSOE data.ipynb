{
 "cells": [
  {
   "cell_type": "code",
   "execution_count": 1,
   "metadata": {},
   "outputs": [],
   "source": [
    "%load_ext autoreload\n",
    "%autoreload 2"
   ]
  },
  {
   "cell_type": "code",
   "execution_count": 2,
   "metadata": {},
   "outputs": [],
   "source": [
    "import os\n",
    "\n",
    "import arrow\n",
    "import pandas as pd"
   ]
  },
  {
   "cell_type": "markdown",
   "metadata": {},
   "source": [
    "Everything is for Spain (ES)"
   ]
  },
  {
   "cell_type": "code",
   "execution_count": 3,
   "metadata": {},
   "outputs": [],
   "source": [
    "# Installed Capacity\n",
    "capacity_df = pd.read_csv(\"raw/Installed Capacity per Production Type_202201010000-202301010000.csv\")\n",
    "\n",
    "capacity_df.loc[:, \"Grid Node\"] = \"ES\"\n",
    "capacity_df.loc[:, \"datetime\"] = \"2022-01-01\"\n",
    "capacity_df = capacity_df.rename(columns={\"Production Type\": \"Fuel Type\", \"2022 [MW]\": \"Capacity (MW)\"})\n",
    "\n",
    "capacity_df.to_csv(\"installed_capacity.csv\", index=False)"
   ]
  },
  {
   "cell_type": "code",
   "execution_count": 24,
   "metadata": {},
   "outputs": [],
   "source": [
    "# Generation\n",
    "generation_df = pd.read_csv(\"raw/Actual Generation per Production Type_202211010000-202211020000.csv\")\n",
    "\n",
    "generation_df.loc[:, \"Grid Node\"] = \"ES\"\n",
    "generation_df.loc[:, \"unit\"] = \"MWh\"\n",
    "\n",
    "generation_df.loc[:, \"datetime\"] = generation_df.loc[:, \"MTU\"].apply(lambda x: arrow.get(x.split(\" - \")[0], \"DD.MM.YYYY HH:mm\").format(\"YYYY-MM-DD HH:mm\"))\n",
    "\n",
    "generation_df = generation_df.drop(columns=[\"MTU\", \"Area\"])\n",
    "generation_df = generation_df.rename(columns={c: c.split(\"  - Actual Aggregated [MW]\")[0] + \" (MW)\" for c in generation_df.columns if \"Actual Aggregated [MW]\" in c})\n",
    "generation_df_out = generation_df.rename(columns={\n",
    "    \"Biomass (MW)\": \"BIOMASS\",\n",
    "    \"Fossil Brown coal/Lignite (MW)\": \"BROWN_COAL\",\n",
    "    \"Fossil Coal-derived gas (MW)\": \"COAL_DERIVED_GAS\",\n",
    "    \"Fossil Gas (MW)\": \"OTHER_GAS\",\n",
    "    \"Fossil Hard coal (MW)\":\"HARD_COAL\",\n",
    "    \"Fossil Oil shale (MW)\":\"SHALE_OIL\",\n",
    "    \"Fossil Oil (MW)\":\"OTHER_OIL\",\n",
    "    \"Fossil Peat (MW)\":\"PEAT\",\n",
    "    \"Geothermal (MW)\":\"GEOTHERMAL\",\n",
    "    \"Hydro Pumped Storage (MW)\":\"HYDRO_PUMPED_STORAGE\",\n",
    "    \"Hydro Pumped Storage  - Actual Consumption [MW]\":\"HYDRO_PUMPED_STORAGE_CONSUMPTION\",\n",
    "    \"Hydro Run-of-river and poundage (MW)\": \"HYDRO_RUN_OF_RIVER\",\n",
    "    \"Hydro Water Reservoir (MW)\": \"HYDRO_RESERVOIR\",\n",
    "    \"Marine (MW)\": \"HYDRO\",\n",
    "    \"Nuclear (MW)\":\"NUCLEAR\",\n",
    "    \"Other (MW)\": \"OTHER\",\n",
    "    \"Other renewable (MW)\":\"OTHER_RENEWABLE\",\n",
    "    \"Solar (MW)\":\"SOLAR\",\n",
    "    \"Waste (MW)\":\"WASTE\",\n",
    "    \"Wind Offshore (MW)\": \"WIND_OFF_SHORE\",\n",
    "    \"Wind Onshore (MW)\":\"WIND_ON_SHORE\"\n",
    "})\n",
    "\n",
    "generation_df_out.fillna(0).to_csv(\"generation.csv\", index=False)"
   ]
  },
  {
   "cell_type": "code",
   "execution_count": 5,
   "metadata": {},
   "outputs": [],
   "source": [
    "# Imports and Exports\n",
    "imports_exports_df = pd.read_csv(\"raw/Cross-Border Physical Flow_202211010000-202211020000.csv\")\n",
    "\n",
    "imports_exports_df.loc[:, \"Grid Node\"] = \"ES\"\n",
    "imports_exports_df.loc[:, \"datetime\"] = imports_exports_df.loc[:, \"Time (UTC)\"].apply(lambda x: arrow.get(x.split(\" - \")[0], \"DD.MM.YYYY HH:mm\").format(\"YYYY-MM-DD HH:mm\"))\n",
    "\n",
    "imports_exports_df = imports_exports_df.rename(columns={\"BZN|FR > BZN|ES [MW]\": \"FR import (MW)\", \"BZN|ES > BZN|FR [MW]\": \"FR export (MW)\"})\n",
    "imports_exports_df = imports_exports_df.drop(columns=[\"Time (UTC)\"])\n",
    "\n",
    "imports_exports_df.to_csv(\"imports_exports.csv\", index=False)"
   ]
  },
  {
   "cell_type": "code",
   "execution_count": 6,
   "metadata": {},
   "outputs": [],
   "source": [
    "# Load forecast\n",
    "load_forecast_df = pd.read_csv(\"raw/Total Load - Day Ahead _ Actual_202211010000-202211020000.csv\")\n",
    "\n",
    "load_forecast_df.loc[:, \"Grid Node\"] = \"ES\"\n",
    "load_forecast_df.loc[:, \"datetime\"] = load_forecast_df.loc[:, \"Time (UTC)\"].apply(lambda x: arrow.get(x.split(\" - \")[0], \"DD.MM.YYYY HH:mm\").format(\"YYYY-MM-DD HH:mm\"))\n",
    "load_forecast_df = load_forecast_df.drop(columns=[\"Time (UTC)\"])\n",
    "load_forecast_df = load_forecast_df.rename(columns={\"Day-ahead Total Load Forecast [MW] - BZN|ES\": \"Demand Forecast (MW)\"})\n",
    "\n",
    "load_forecast_df.to_csv(\"load_forecast.csv\", index=False)"
   ]
  },
  {
   "cell_type": "code",
   "execution_count": null,
   "metadata": {},
   "outputs": [],
   "source": []
  }
 ],
 "metadata": {
  "kernelspec": {
   "display_name": "Python 3 (ipykernel)",
   "language": "python",
   "name": "python3"
  },
  "language_info": {
   "codemirror_mode": {
    "name": "ipython",
    "version": 3
   },
   "file_extension": ".py",
   "mimetype": "text/x-python",
   "name": "python",
   "nbconvert_exporter": "python",
   "pygments_lexer": "ipython3",
   "version": "3.10.4"
  },
  "vscode": {
   "interpreter": {
    "hash": "4cbbee6cf7be8fe68da2b79ea3b09ec4ddee9bc5285083e7d5da38251eae9c79"
   }
  }
 },
 "nbformat": 4,
 "nbformat_minor": 4
}
