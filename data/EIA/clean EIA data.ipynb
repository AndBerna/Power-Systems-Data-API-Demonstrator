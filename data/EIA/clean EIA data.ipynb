{
 "cells": [
  {
   "cell_type": "code",
   "execution_count": 2,
   "id": "add18ae8",
   "metadata": {},
   "outputs": [
    {
     "ename": "ModuleNotFoundError",
     "evalue": "No module named 'requests'",
     "output_type": "error",
     "traceback": [
      "\u001b[0;31m---------------------------------------------------------------------------\u001b[0m",
      "\u001b[0;31mModuleNotFoundError\u001b[0m                       Traceback (most recent call last)",
      "Cell \u001b[0;32mIn[2], line 1\u001b[0m\n\u001b[0;32m----> 1\u001b[0m \u001b[39mimport\u001b[39;00m \u001b[39mrequests\u001b[39;00m\n\u001b[1;32m      2\u001b[0m \u001b[39mimport\u001b[39;00m \u001b[39mjson\u001b[39;00m\n\u001b[1;32m      3\u001b[0m \u001b[39mimport\u001b[39;00m \u001b[39mpandas\u001b[39;00m \u001b[39mas\u001b[39;00m \u001b[39mpd\u001b[39;00m\n",
      "\u001b[0;31mModuleNotFoundError\u001b[0m: No module named 'requests'"
     ]
    }
   ],
   "source": [
    "import requests\n",
    "import json\n",
    "import pandas as pd\n",
    "\n",
    "import os\n",
    "eia_api_key = os.environ['EIA_API_KEY']"
   ]
  },
  {
   "cell_type": "code",
   "execution_count": 8,
   "id": "6a9257a1",
   "metadata": {},
   "outputs": [],
   "source": [
    "GRID_NODE_NAME_TO_ID_MAP = {\n",
    "    \"CISO\":\"US-WECC-CISO\",\n",
    "    \"PACW\": \"US-WECC-PACW\",\n",
    "    \"BANC\": \"US-WECC-BANC\",\n",
    "    \"BPAT\": \"US-WECC-BPAT\",\n",
    "    \"CEN\": \"MX\",\n",
    "    \"LDWP\": \"US-WECC-LDWP\",\n",
    "    \"NEVP\": \"US-WECC-NEVP\",\n",
    "    \"AZPS\": \"US-WECC-AZPS\",\n",
    "    \"WALC\": \"US-WECC-WALC\",\n",
    "    \"TIDC\": \"US-WECC-TIDC\",\n",
    "    \"SRP\": \"US-WECC-SRP\",\n",
    "    \"IID\": \"US-WECC-IID\",\n",
    "}"
   ]
  },
  {
   "cell_type": "markdown",
   "id": "e5daa605",
   "metadata": {},
   "source": [
    "# Fetching Raw Data"
   ]
  },
  {
   "cell_type": "code",
   "execution_count": 74,
   "id": "7bf62fb2",
   "metadata": {},
   "outputs": [],
   "source": [
    "## GENERATION\n",
    "\n",
    "params = {\n",
    "    'api_key': eia_api_key, \n",
    "}\n",
    "headers = {\"X-Params\":json.dumps(\n",
    "    {\n",
    "        \"facets\":{\"respondent\": [\"CISO\"]},\n",
    "        'start': '2021-06-01',\n",
    "        \"data\": [\"value\"],\n",
    "        'end':'2021-06-01T23',\n",
    "        'frequency':'hourly',\n",
    "        'sort': [{\"column\": \"period\",\"direction\":\"asc\"}]\n",
    "})}\n",
    "response = requests.get(\n",
    "    \"https://api.eia.gov/v2/electricity/rto/fuel-type-data/data/\",\n",
    "    params=params, \n",
    "    headers=headers\n",
    ")\n",
    "pd.DataFrame(response.json()['response']['data']).to_csv('raw/generation.csv', index=False)"
   ]
  },
  {
   "cell_type": "code",
   "execution_count": 75,
   "id": "f4ceba57",
   "metadata": {},
   "outputs": [],
   "source": [
    "# Capacity\n",
    "headers = {\"X-Params\": json.dumps({\n",
    "    \"frequency\": \"monthly\",\n",
    "    \"data\": [\n",
    "        \"nameplate-capacity-mw\"\n",
    "    ],\n",
    "    \"facets\": {\n",
    "        \"balancing_authority_code\": [\n",
    "            \"CISO\"\n",
    "        ]\n",
    "    },\n",
    "    \"start\": \"2021-06\",\n",
    "    \"end\": \"2021-06\",\n",
    "    \"sort\": [\n",
    "        {\n",
    "            \"column\": \"period\",\n",
    "            \"direction\": \"desc\"\n",
    "        }\n",
    "    ],\n",
    "})}\n",
    "response = requests.get(\n",
    "    \"https://api.eia.gov/v2/electricity/operating-generator-capacity/data/\",\n",
    "    params=params, \n",
    "    headers=headers\n",
    ")\n",
    "response.json()\n",
    "pd.DataFrame(response.json()['response']['data']).to_csv('raw/capacity.csv', index=False)"
   ]
  },
  {
   "cell_type": "code",
   "execution_count": 85,
   "id": "63d3dada",
   "metadata": {},
   "outputs": [],
   "source": [
    "## Imports/Exports\n",
    "\n",
    "params = {\n",
    "    'api_key': eia_api_key, \n",
    "}\n",
    "headers = {\"X-Params\":json.dumps(\n",
    "    {\n",
    "        \"facets\":{\"fromba\": [\"CISO\"]},\n",
    "        'start': '2021-06-01',\n",
    "        \"data\": [\"value\"],\n",
    "        'end':'2021-06-01T23',\n",
    "        'frequency':'hourly',\n",
    "        'sort': [{\"column\": \"period\",\"direction\":\"asc\"}]\n",
    "})}\n",
    "response = requests.get(\n",
    "    \"https://api.eia.gov/v2/electricity/rto/interchange-data/data/\",\n",
    "    params=params, \n",
    "    headers=headers\n",
    ")\n",
    "pd.DataFrame(response.json()['response']['data']).to_csv('raw/imports_exports.csv', index=False)"
   ]
  },
  {
   "cell_type": "code",
   "execution_count": 129,
   "id": "dc70c8a8",
   "metadata": {},
   "outputs": [],
   "source": [
    "## Load Forecast. \n",
    "\n",
    "params = {\n",
    "    'api_key': eia_api_key, \n",
    "}\n",
    "headers = {\"X-Params\":json.dumps(\n",
    "    {\n",
    "        \"facets\":{\"respondent\": [\"CISO\"]},\n",
    "        'start': '2022-06-01T00',\n",
    "        'end':'2022-06-01T23',\n",
    "        \"data\": [\"value\"],\n",
    "        'frequency':'hourly',\n",
    "        'sort': [{\"column\": \"period\",\"direction\":\"asc\"}]\n",
    "})}\n",
    "\n",
    "response = requests.get(\n",
    "    \"https://api.eia.gov/v2/electricity/rto/region-data/data/\",\n",
    "    params=params, \n",
    "    headers=headers\n",
    ")\n",
    "\n",
    "pd.DataFrame(response.json()['response']['data']).to_csv('raw/load_forecast.csv', index=False)"
   ]
  },
  {
   "cell_type": "markdown",
   "id": "f776b8bb",
   "metadata": {},
   "source": [
    "# Transforming Data"
   ]
  },
  {
   "cell_type": "code",
   "execution_count": 30,
   "id": "4b49b755",
   "metadata": {},
   "outputs": [],
   "source": [
    "# Generation\n",
    "\n",
    "# Time is in UTC\n",
    "df = pd.read_csv('raw/generation.csv')\n",
    "df = pd.pivot_table(\n",
    "    df,\n",
    "    values=\"value\",\n",
    "    index=[\"respondent\", \"period\"],\n",
    "    columns=\"type-name\"\n",
    ").fillna(0).reset_index()\n",
    "\n",
    "# Rename and reformat to align with ENTSO-E\n",
    "df['datetime'] = pd.to_datetime(df['period']).dt.strftime(\"%Y-%m-%d %H:%M\")\n",
    "df.drop(['period'], inplace=True, axis=1)\n",
    "df = df.rename(columns={\n",
    "    \"respondent\":\"Grid Node\",\n",
    "    \"Coal\": \"OTHER_COAL\",\n",
    "    \"Hydro\": \"HYDRO\",\n",
    "    \"Natural gas\": \"NATURAL_GAS\",\n",
    "    \"Nuclear\": \"NUCLEAR\",\n",
    "    \"Other\": \"OTHER\",\n",
    "    \"Petroleum\": \"OIL\",\n",
    "    \"Solar\": \"SOLAR\",\n",
    "    \"Wind\": \"WIND\"\n",
    "}\n",
    ")\n",
    "df['Grid Node'] = df['Grid Node'].map(GRID_NODE_NAME_TO_ID_MAP)\n",
    "df['unit'] = 'MWh'\n",
    "df.to_csv('generation.csv', index=False)"
   ]
  },
  {
   "cell_type": "code",
   "execution_count": 22,
   "id": "947ebe95",
   "metadata": {},
   "outputs": [],
   "source": [
    "# Capacity\n",
    "df = pd.read_csv('raw/capacity.csv')\n",
    "df = df.groupby([\"period\",\"energy-source-desc\",\"balancing_authority_code\"]).agg({\"nameplate-capacity-mw\":\"sum\"})\n",
    "df = df.reset_index().rename(columns={\n",
    "    \"period\":\"datetime\",\n",
    "    \"nameplate-capacity-mw\":\"Capacity (MW)\",\n",
    "    \"energy-source-desc\":\"Fuel Type\",\n",
    "    \"balancing_authority_code\":\"Grid Node\"\n",
    "})\n",
    "df['Grid Node'] = df['Grid Node'].map(GRID_NODE_NAME_TO_ID_MAP)\n",
    "df.to_csv('installed_capacity.csv', index=False)"
   ]
  },
  {
   "cell_type": "code",
   "execution_count": 3,
   "id": "62d452e6",
   "metadata": {},
   "outputs": [],
   "source": [
    "import pandas as pd"
   ]
  },
  {
   "cell_type": "code",
   "execution_count": 9,
   "id": "9d57c71b",
   "metadata": {},
   "outputs": [],
   "source": [
    "# Imports/Exports\n",
    "df = pd.read_csv(\"raw/imports_exports.csv\")\n",
    "df[\"datetime\"] = pd.to_datetime(df[\"period\"]).dt.strftime(\"%Y-%m-%d %H:%M\")\n",
    "df = df.drop([\"period\"], axis=1)\n",
    "\n",
    "df = df.reset_index().rename(columns={\"fromba\": \"Grid Node From\", \"toba\": \"Grid Node To\", \"value\": \"Value\"})\n",
    "df[\"Grid Node From\"] = df[\"Grid Node From\"].map(GRID_NODE_NAME_TO_ID_MAP)\n",
    "df[\"Grid Node To\"] = df[\"Grid Node To\"].map(GRID_NODE_NAME_TO_ID_MAP)\n",
    "\n",
    "final_columns = [\"datetime\", \"Grid Node From\", \"Grid Node To\", \"Value\"]\n",
    "df = df[final_columns]\n",
    "df.loc[:, \"unit\"] = \"MWh\"\n",
    "\n",
    "df.to_csv(\"imports_exports.csv\", index=False)"
   ]
  },
  {
   "cell_type": "code",
   "execution_count": 24,
   "id": "d3f62312",
   "metadata": {},
   "outputs": [],
   "source": [
    "# Load Forecast\n",
    "df = pd.read_csv('raw/load_forecast.csv')\n",
    "df = df[df['type'].isin(['D','DF'])]\n",
    "df['datetime'] = pd.to_datetime(df['period']).dt.strftime(\"%Y-%m-%d %H:%M\")\n",
    "df.drop(['period'], inplace=True, axis=1)\n",
    "df = pd.pivot_table(\n",
    "    df,\n",
    "    values=\"value\",\n",
    "    index=[\"respondent\", \"datetime\"],\n",
    "    columns=\"type-name\"\n",
    ").reset_index()\n",
    "df = df.rename(columns={\n",
    "    \"Day-ahead demand forecast\": \"Demand Forecast (MW)\",\n",
    "    \"Demand\": \"Actual Total Load (MW)\",\n",
    "    \"respondent\": \"Grid Node\",\n",
    "})\n",
    "df['Grid Node'] = df['Grid Node'].map(GRID_NODE_NAME_TO_ID_MAP)\n",
    "df.to_csv('load_forecast.csv',index=False)"
   ]
  },
  {
   "cell_type": "code",
   "execution_count": null,
   "id": "e9c9b6bc",
   "metadata": {},
   "outputs": [],
   "source": []
  }
 ],
 "metadata": {
  "kernelspec": {
   "display_name": "Python 3 (ipykernel)",
   "language": "python",
   "name": "python3"
  },
  "language_info": {
   "codemirror_mode": {
    "name": "ipython",
    "version": 3
   },
   "file_extension": ".py",
   "mimetype": "text/x-python",
   "name": "python",
   "nbconvert_exporter": "python",
   "pygments_lexer": "ipython3",
   "version": "3.9.14"
  }
 },
 "nbformat": 4,
 "nbformat_minor": 5
}
