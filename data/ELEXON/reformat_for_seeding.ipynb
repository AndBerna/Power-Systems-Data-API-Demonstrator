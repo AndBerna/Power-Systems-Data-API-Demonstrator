{
 "cells": [
  {
   "cell_type": "code",
   "execution_count": 1,
   "id": "6427074a",
   "metadata": {},
   "outputs": [],
   "source": [
    "import pandas as pd"
   ]
  },
  {
   "attachments": {},
   "cell_type": "markdown",
   "id": "48ba79b7",
   "metadata": {},
   "source": [
    "# Generation"
   ]
  },
  {
   "cell_type": "code",
   "execution_count": 27,
   "id": "42eb6d52",
   "metadata": {},
   "outputs": [],
   "source": [
    "df = pd.read_csv(\"intermediate/generation_by_production_type.csv\")\n",
    "df[\"Grid Node\"] = \"UK-GB\"\n",
    "df[\"unit\"] = \"MWh\"\n",
    "df = df.rename(columns={\n",
    "    \"Biomass (MW)\": \"BIOMASS\",\n",
    "    \"Hydro Pumped Storage (MW)\":\"HYDRO_PUMPED_STORAGE\",\n",
    "    \"Hydro Run-of-river and poundage (MW)\": \"HYDRO_RUN_OF_RIVER\",\n",
    "    \"Fossil Hard coal (MW)\": \"HARD_COAL\",\n",
    "    \"Fossil Gas (MW)\": \"OTHER_GAS\",\n",
    "    \"Fossil Oil (MW)\":\"OTHER_OIL\",\n",
    "    \"Nuclear (MW)\":\"NUCLEAR\",\n",
    "    \"Other (MW)\": \"OTHER\",\n",
    "    \"Wind Offshore (MW)\": \"WIND_OFF_SHORE\",\n",
    "    \"Wind Onshore (MW)\":\"WIND_ON_SHORE\",\n",
    "    \"Solar (MW)\":\"SOLAR\",\n",
    "\n",
    "})\n",
    "df.to_csv('generation.csv',index=False)"
   ]
  },
  {
   "attachments": {},
   "cell_type": "markdown",
   "id": "a78751d8",
   "metadata": {},
   "source": [
    "# Exchanges"
   ]
  },
  {
   "cell_type": "code",
   "execution_count": 38,
   "id": "039e8443",
   "metadata": {},
   "outputs": [],
   "source": [
    "name_to_grid_node = {\n",
    "    \"IFA\": \"FR\",\n",
    "    \"IFA2\": \"FR\",\n",
    "    \"Moyle\": \"UK-NIR\",\n",
    "    \"BritNEd\": \"NL\",\n",
    "    \"EastWest\": \"IE\",\n",
    "    \"NEMO\": \"BE\",\n",
    "    \"NorthSeaLink\": \"NO\",\n",
    "}"
   ]
  },
  {
   "cell_type": "code",
   "execution_count": 45,
   "id": "7a261c97",
   "metadata": {},
   "outputs": [],
   "source": [
    "df = pd.read_csv('intermediate/interconnector_exchanges.csv')\n",
    "interconnector_names = list(name_to_grid_node.keys())\n",
    "df = df[interconnector_names + ['datetime']]\n",
    "# Pivot to datetime and rows for each interconnector\n",
    "df = df.melt(id_vars='datetime', var_name='interconnector', value_name='Value')"
   ]
  },
  {
   "cell_type": "code",
   "execution_count": 46,
   "id": "1bc168ff",
   "metadata": {},
   "outputs": [],
   "source": [
    "# Map interconnector names to grid nodes and group by datetime\n",
    "df.loc[:, \"Grid Node\"] = df.interconnector.map(name_to_grid_node)\n",
    "df = df.groupby(['datetime', 'Grid Node']).sum(numeric_only=True).reset_index()\n",
    "df.loc[:, \"unit\"] = \"MW\""
   ]
  },
  {
   "cell_type": "code",
   "execution_count": 47,
   "id": "ce533f0e",
   "metadata": {},
   "outputs": [],
   "source": [
    "# Exports are when value is < 0\n",
    "# Imports when it's > 0\n",
    "df_exports = df[df['Value'] < 0].copy()\n",
    "df_imports = df[df['Value'] >= 0].copy()\n",
    "\n",
    "df_exports.loc[:, \"Grid Node To\"] = \"UK-GB\"\n",
    "df_exports = df_exports.rename(columns={\"Grid Node\": \"Grid Node From\"})\n",
    "df_exports.loc[:, \"Value\"] = df_exports[\"Value\"] * -1\n",
    "df_exports = df_exports[['datetime', 'Grid Node From', 'Grid Node To', 'Value', 'unit']]\n",
    "\n",
    "df_imports.loc[:, \"Grid Node From\"] = \"UK-GB\"\n",
    "df_imports = df_imports.rename(columns={\"Grid Node\": \"Grid Node To\"})\n",
    "df_imports = df_imports[['datetime', 'Grid Node From', 'Grid Node To', 'Value', 'unit']]\n",
    "df = pd.concat([df_exports, df_imports])\n"
   ]
  },
  {
   "cell_type": "code",
   "execution_count": 48,
   "id": "b8806192",
   "metadata": {},
   "outputs": [],
   "source": [
    "# Duplicate all rows and invert the sign of the value\n",
    "# This is because we want to model the interconnector as a bidirectional flow\n",
    "df2 = df.copy()\n",
    "df2.loc[:, \"Value\"] = df2[\"Value\"] * -1\n",
    "df2.loc[:, \"Grid Node From\"] = df[\"Grid Node To\"]\n",
    "df2.loc[:, \"Grid Node To\"] = df[\"Grid Node From\"]\n",
    "df = pd.concat([df, df2])"
   ]
  },
  {
   "cell_type": "code",
   "execution_count": 49,
   "id": "0039db6d",
   "metadata": {},
   "outputs": [],
   "source": [
    "df.to_csv('imports_exports.csv', index=False)"
   ]
  },
  {
   "cell_type": "code",
   "execution_count": null,
   "id": "ac0115dc",
   "metadata": {},
   "outputs": [],
   "source": []
  }
 ],
 "metadata": {
  "kernelspec": {
   "display_name": "Python 3 (ipykernel)",
   "language": "python",
   "name": "python3"
  },
  "language_info": {
   "codemirror_mode": {
    "name": "ipython",
    "version": 3
   },
   "file_extension": ".py",
   "mimetype": "text/x-python",
   "name": "python",
   "nbconvert_exporter": "python",
   "pygments_lexer": "ipython3",
   "version": "3.9.14"
  }
 },
 "nbformat": 4,
 "nbformat_minor": 5
}
