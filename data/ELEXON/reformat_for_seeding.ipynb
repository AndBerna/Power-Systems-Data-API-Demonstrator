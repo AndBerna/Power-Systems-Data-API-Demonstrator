{
 "cells": [
  {
   "cell_type": "code",
   "execution_count": 1,
   "id": "6427074a",
   "metadata": {},
   "outputs": [],
   "source": [
    "import pandas as pd"
   ]
  },
  {
   "cell_type": "code",
   "execution_count": 10,
   "id": "42eb6d52",
   "metadata": {},
   "outputs": [],
   "source": [
    "df = pd.read_csv('intermediate/generation_by_production_type.csv')\n",
    "df['Grid Node'] = 'GB'\n",
    "df['unit'] = \"MWh\"\n",
    "df = df.rename(columns={\n",
    "    \"Biomass (MW)\": \"BIOMASS\",\n",
    "    \"Hydro Pumped Storage (MW)\":\"HYDRO_PUMPED_STORAGE\",\n",
    "    \"Hydro Run-of-river and poundage (MW)\": \"HYDRO_RUN_OF_RIVER\",\n",
    "    \"Fossil Hard coal (MW)\": \"HARD_COAL\",\n",
    "    \"Fossil Gas (MW)\": \"OTHER_GAS\",\n",
    "    \"Fossil Oil (MW)\":\"OTHER_OIL\",\n",
    "    \"Nuclear (MW)\":\"NUCLEAR\",\n",
    "    \"Other (MW)\": \"OTHER\",\n",
    "    \"Wind Offshore (MW)\": \"WIND_OFF_SHORE\",\n",
    "    \"Wind Onshore (MW)\":\"WIND_ON_SHORE\",\n",
    "    \"Solar (MW)\":\"SOLAR\",\n",
    "\n",
    "})\n",
    "df.to_csv('generation.csv',index=False)"
   ]
  }
 ],
 "metadata": {
  "kernelspec": {
   "display_name": "Python 3 (ipykernel)",
   "language": "python",
   "name": "python3"
  },
  "language_info": {
   "codemirror_mode": {
    "name": "ipython",
    "version": 3
   },
   "file_extension": ".py",
   "mimetype": "text/x-python",
   "name": "python",
   "nbconvert_exporter": "python",
   "pygments_lexer": "ipython3",
   "version": "3.10.4"
  }
 },
 "nbformat": 4,
 "nbformat_minor": 5
}
